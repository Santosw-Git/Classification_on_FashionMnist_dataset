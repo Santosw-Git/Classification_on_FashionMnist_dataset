{
  "nbformat": 4,
  "nbformat_minor": 0,
  "metadata": {
    "colab": {
      "provenance": [],
      "authorship_tag": "ABX9TyPJThkZbxys4gDFGV9TTAze",
      "include_colab_link": true
    },
    "kernelspec": {
      "name": "python3",
      "display_name": "Python 3"
    },
    "language_info": {
      "name": "python"
    }
  },
  "cells": [
    {
      "cell_type": "markdown",
      "metadata": {
        "id": "view-in-github",
        "colab_type": "text"
      },
      "source": [
        "<a href=\"https://colab.research.google.com/github/Santosw-Git/Classification_on_FashionMnist_dataset/blob/main/Image_Classification_using_logistic_reg.ipynb\" target=\"_parent\"><img src=\"https://colab.research.google.com/assets/colab-badge.svg\" alt=\"Open In Colab\"/></a>"
      ]
    },
    {
      "cell_type": "code",
      "execution_count": null,
      "metadata": {
        "id": "K2YMGVMCvgEY"
      },
      "outputs": [],
      "source": [
        "import torch\n",
        "import torchvision\n",
        "from torchvision.datasets import MNIST"
      ]
    },
    {
      "cell_type": "code",
      "source": [
        "dataset=MNIST(root='data/',download=True)"
      ],
      "metadata": {
        "colab": {
          "base_uri": "https://localhost:8080/"
        },
        "id": "sqTg1TG7v7tk",
        "outputId": "6fb4511a-5e76-4613-93ff-297860beb846"
      },
      "execution_count": null,
      "outputs": [
        {
          "output_type": "stream",
          "name": "stdout",
          "text": [
            "Downloading http://yann.lecun.com/exdb/mnist/train-images-idx3-ubyte.gz\n",
            "Failed to download (trying next):\n",
            "HTTP Error 403: Forbidden\n",
            "\n",
            "Downloading https://ossci-datasets.s3.amazonaws.com/mnist/train-images-idx3-ubyte.gz\n",
            "Downloading https://ossci-datasets.s3.amazonaws.com/mnist/train-images-idx3-ubyte.gz to data/MNIST/raw/train-images-idx3-ubyte.gz\n"
          ]
        },
        {
          "output_type": "stream",
          "name": "stderr",
          "text": [
            "100%|██████████| 9.91M/9.91M [00:00<00:00, 58.4MB/s]\n"
          ]
        },
        {
          "output_type": "stream",
          "name": "stdout",
          "text": [
            "Extracting data/MNIST/raw/train-images-idx3-ubyte.gz to data/MNIST/raw\n",
            "\n",
            "Downloading http://yann.lecun.com/exdb/mnist/train-labels-idx1-ubyte.gz\n",
            "Failed to download (trying next):\n",
            "HTTP Error 403: Forbidden\n",
            "\n",
            "Downloading https://ossci-datasets.s3.amazonaws.com/mnist/train-labels-idx1-ubyte.gz\n",
            "Downloading https://ossci-datasets.s3.amazonaws.com/mnist/train-labels-idx1-ubyte.gz to data/MNIST/raw/train-labels-idx1-ubyte.gz\n"
          ]
        },
        {
          "output_type": "stream",
          "name": "stderr",
          "text": [
            "100%|██████████| 28.9k/28.9k [00:00<00:00, 2.01MB/s]"
          ]
        },
        {
          "output_type": "stream",
          "name": "stdout",
          "text": [
            "Extracting data/MNIST/raw/train-labels-idx1-ubyte.gz to data/MNIST/raw\n",
            "\n",
            "Downloading http://yann.lecun.com/exdb/mnist/t10k-images-idx3-ubyte.gz\n"
          ]
        },
        {
          "output_type": "stream",
          "name": "stderr",
          "text": [
            "\n"
          ]
        },
        {
          "output_type": "stream",
          "name": "stdout",
          "text": [
            "Failed to download (trying next):\n",
            "HTTP Error 403: Forbidden\n",
            "\n",
            "Downloading https://ossci-datasets.s3.amazonaws.com/mnist/t10k-images-idx3-ubyte.gz\n",
            "Downloading https://ossci-datasets.s3.amazonaws.com/mnist/t10k-images-idx3-ubyte.gz to data/MNIST/raw/t10k-images-idx3-ubyte.gz\n"
          ]
        },
        {
          "output_type": "stream",
          "name": "stderr",
          "text": [
            "100%|██████████| 1.65M/1.65M [00:00<00:00, 13.1MB/s]\n"
          ]
        },
        {
          "output_type": "stream",
          "name": "stdout",
          "text": [
            "Extracting data/MNIST/raw/t10k-images-idx3-ubyte.gz to data/MNIST/raw\n",
            "\n",
            "Downloading http://yann.lecun.com/exdb/mnist/t10k-labels-idx1-ubyte.gz\n",
            "Failed to download (trying next):\n",
            "HTTP Error 403: Forbidden\n",
            "\n",
            "Downloading https://ossci-datasets.s3.amazonaws.com/mnist/t10k-labels-idx1-ubyte.gz\n",
            "Downloading https://ossci-datasets.s3.amazonaws.com/mnist/t10k-labels-idx1-ubyte.gz to data/MNIST/raw/t10k-labels-idx1-ubyte.gz\n"
          ]
        },
        {
          "output_type": "stream",
          "name": "stderr",
          "text": [
            "100%|██████████| 4.54k/4.54k [00:00<00:00, 2.68MB/s]"
          ]
        },
        {
          "output_type": "stream",
          "name": "stdout",
          "text": [
            "Extracting data/MNIST/raw/t10k-labels-idx1-ubyte.gz to data/MNIST/raw\n",
            "\n"
          ]
        },
        {
          "output_type": "stream",
          "name": "stderr",
          "text": [
            "\n"
          ]
        }
      ]
    },
    {
      "cell_type": "code",
      "source": [
        "len(dataset)"
      ],
      "metadata": {
        "colab": {
          "base_uri": "https://localhost:8080/"
        },
        "id": "EfratvJLwBS3",
        "outputId": "8a73a4d3-48ce-44bd-9642-0be6dd593550"
      },
      "execution_count": null,
      "outputs": [
        {
          "output_type": "execute_result",
          "data": {
            "text/plain": [
              "60000"
            ]
          },
          "metadata": {},
          "execution_count": 3
        }
      ]
    },
    {
      "cell_type": "code",
      "source": [
        "test_dataset=MNIST(root='data/',train=False)"
      ],
      "metadata": {
        "id": "XE5p0hXWwDOn"
      },
      "execution_count": null,
      "outputs": []
    },
    {
      "cell_type": "code",
      "source": [
        "len(test_dataset)"
      ],
      "metadata": {
        "colab": {
          "base_uri": "https://localhost:8080/"
        },
        "id": "dXIaP6yGxMy_",
        "outputId": "2ce17451-126a-445b-c8d0-97ab478543fc"
      },
      "execution_count": null,
      "outputs": [
        {
          "output_type": "execute_result",
          "data": {
            "text/plain": [
              "10000"
            ]
          },
          "metadata": {},
          "execution_count": 5
        }
      ]
    },
    {
      "cell_type": "code",
      "source": [
        "dataset[0]"
      ],
      "metadata": {
        "colab": {
          "base_uri": "https://localhost:8080/"
        },
        "id": "aSNVyrmQxN5K",
        "outputId": "a68375eb-ed25-4835-cc7d-77b4cc8a1111"
      },
      "execution_count": null,
      "outputs": [
        {
          "output_type": "execute_result",
          "data": {
            "text/plain": [
              "(<PIL.Image.Image image mode=L size=28x28>, 5)"
            ]
          },
          "metadata": {},
          "execution_count": 6
        }
      ]
    },
    {
      "cell_type": "code",
      "source": [
        "import matplotlib.pyplot as plt\n",
        "%matplotlib inline"
      ],
      "metadata": {
        "id": "kzasIhcPxQTU"
      },
      "execution_count": null,
      "outputs": []
    },
    {
      "cell_type": "code",
      "source": [
        "image,label=dataset[0]\n",
        "plt.imshow(image,cmap='gray')\n",
        "print(\"Label:\",label)"
      ],
      "metadata": {
        "colab": {
          "base_uri": "https://localhost:8080/",
          "height": 448
        },
        "id": "BydFIVg850Kj",
        "outputId": "d274dbe5-def2-49d1-e274-5f84138ceed0"
      },
      "execution_count": null,
      "outputs": [
        {
          "output_type": "stream",
          "name": "stdout",
          "text": [
            "Label: 5\n"
          ]
        },
        {
          "output_type": "display_data",
          "data": {
            "text/plain": [
              "<Figure size 640x480 with 1 Axes>"
            ],
            "image/png": "[encoded data removed]"
          },
          "metadata": {}
        }
      ]
    },
    {
      "cell_type": "code",
      "source": [
        "import torchvision.transforms as transforms"
      ],
      "metadata": {
        "id": "73uUeVvN59CQ"
      },
      "execution_count": null,
      "outputs": []
    },
    {
      "cell_type": "code",
      "source": [
        "#MNIST dataset (images and labels)\n",
        "dataset=MNIST(root='data/',\n",
        "              train=True,\n",
        "              transform=transforms.ToTensor())"
      ],
      "metadata": {
        "id": "3RynqgIL6TR9"
      },
      "execution_count": null,
      "outputs": []
    },
    {
      "cell_type": "code",
      "source": [
        "img_tensor,label=dataset[0]\n",
        "print(img_tensor.shape,label)"
      ],
      "metadata": {
        "colab": {
          "base_uri": "https://localhost:8080/"
        },
        "id": "w5x_VLXI6bzN",
        "outputId": "6b23982d-e5e6-4437-e1ef-2fcbea704ace"
      },
      "execution_count": null,
      "outputs": [
        {
          "output_type": "stream",
          "name": "stdout",
          "text": [
            "torch.Size([1, 28, 28]) 5\n"
          ]
        }
      ]
    },
    {
      "cell_type": "code",
      "source": [
        "print(img_tensor[0,10:15,10:15])\n",
        "print(torch.min(img_tensor),torch.max(img_tensor))"
      ],
      "metadata": {
        "colab": {
          "base_uri": "https://localhost:8080/"
        },
        "id": "BGcoBKUV6dnz",
        "outputId": "d42ae2e6-2de1-4df3-d8e8-5648a06ffd9c"
      },
      "execution_count": null,
      "outputs": [
        {
          "output_type": "stream",
          "name": "stdout",
          "text": [
            "tensor([[0.0039, 0.6039, 0.9922, 0.3529, 0.0000],\n",
            "        [0.0000, 0.5451, 0.9922, 0.7451, 0.0078],\n",
            "        [0.0000, 0.0431, 0.7451, 0.9922, 0.2745],\n",
            "        [0.0000, 0.0000, 0.1373, 0.9451, 0.8824],\n",
            "        [0.0000, 0.0000, 0.0000, 0.3176, 0.9412]])\n",
            "tensor(0.) tensor(1.)\n"
          ]
        }
      ]
    },
    {
      "cell_type": "code",
      "source": [
        "plt.imshow(img_tensor[0,10:15,10:15],cmap='gray')\n",
        "print(\"Label:\",label)"
      ],
      "metadata": {
        "colab": {
          "base_uri": "https://localhost:8080/",
          "height": 448
        },
        "id": "1EOjXtz47Lik",
        "outputId": "ecd752bf-4134-4957-b643-ca12d963dee2"
      },
      "execution_count": null,
      "outputs": [
        {
          "output_type": "stream",
          "name": "stdout",
          "text": [
            "Label: 5\n"
          ]
        },
        {
          "output_type": "display_data",
          "data": {
            "text/plain": [
              "<Figure size 640x480 with 1 Axes>"
            ],
            "image/png": "[encoded data removed]"
          },
          "metadata": {}
        }
      ]
    },
    {
      "cell_type": "code",
      "source": [
        "import numpy as np\n",
        "\n",
        "def split_indices(n,val_pct):\n",
        "  # determine size of validation set\n",
        "  n_val=int(val_pct*n)\n",
        "\n",
        "  idxs=np.random.permutation(n)\n",
        "\n",
        "  return idxs[n_val:],idxs[:n_val]\n"
      ],
      "metadata": {
        "id": "hbt9H10H7Rde"
      },
      "execution_count": null,
      "outputs": []
    },
    {
      "cell_type": "code",
      "source": [
        "train_indxs,val_idxs=split_indices(len(dataset),0.2)"
      ],
      "metadata": {
        "id": "9nBbMSyN8NeI"
      },
      "execution_count": null,
      "outputs": []
    },
    {
      "cell_type": "code",
      "source": [
        "print(len(train_indxs),len(val_idxs))"
      ],
      "metadata": {
        "colab": {
          "base_uri": "https://localhost:8080/"
        },
        "id": "9CeGY5jY8RFn",
        "outputId": "1255b53f-8059-408b-b8c6-a26cc0bd31ff"
      },
      "execution_count": null,
      "outputs": [
        {
          "output_type": "stream",
          "name": "stdout",
          "text": [
            "48000 12000\n"
          ]
        }
      ]
    },
    {
      "cell_type": "code",
      "source": [
        "from torch.utils.data.sampler import SubsetRandomSampler\n",
        "from torch.utils.data.dataloader import DataLoader"
      ],
      "metadata": {
        "id": "iXKaO6fd8aG8"
      },
      "execution_count": null,
      "outputs": []
    },
    {
      "cell_type": "code",
      "source": [
        "batch_size=100\n",
        "\n",
        "train_sampler=SubsetRandomSampler(train_indxs)\n",
        "train_loader=DataLoader(dataset,\n",
        "                        batch_size,\n",
        "                        sampler=train_sampler)\n",
        "val_sampler=SubsetRandomSampler(val_idxs)\n",
        "val_loader=DataLoader(dataset,\n",
        "                      batch_size,\n",
        "                      sampler=val_sampler)"
      ],
      "metadata": {
        "id": "kHxOS7bb83zA"
      },
      "execution_count": null,
      "outputs": []
    },
    {
      "cell_type": "code",
      "source": [
        "import torch.nn as nn\n",
        "\n",
        "input_size=28*28\n",
        "num_classes=10\n",
        "\n",
        "model = nn.Linear(input_size,num_classes)"
      ],
      "metadata": {
        "id": "zrBY7feG9Ary"
      },
      "execution_count": null,
      "outputs": []
    },
    {
      "cell_type": "code",
      "source": [
        "print(model.weight.shape)"
      ],
      "metadata": {
        "colab": {
          "base_uri": "https://localhost:8080/"
        },
        "id": "x_J6Kes6-DY5",
        "outputId": "f3a8a526-4dd8-4afa-b3ee-e8db124ce2e8"
      },
      "execution_count": null,
      "outputs": [
        {
          "output_type": "stream",
          "name": "stdout",
          "text": [
            "torch.Size([10, 784])\n"
          ]
        }
      ]
    },
    {
      "cell_type": "code",
      "source": [
        "print(model.bias.shape)"
      ],
      "metadata": {
        "colab": {
          "base_uri": "https://localhost:8080/"
        },
        "id": "8n-Wq64w-HF-",
        "outputId": "f77fcb37-1266-4e69-ca6c-7fe0f568acf5"
      },
      "execution_count": null,
      "outputs": [
        {
          "output_type": "stream",
          "name": "stdout",
          "text": [
            "torch.Size([10])\n"
          ]
        }
      ]
    },
    {
      "cell_type": "code",
      "source": [
        "for images,labels in train_loader:\n",
        "  print(labels)\n",
        "  print(images.shape)\n",
        "  # output=model(images)\n",
        "  break"
      ],
      "metadata": {
        "colab": {
          "base_uri": "https://localhost:8080/"
        },
        "id": "TJ8sEvKU-zwX",
        "outputId": "4dd08726-817b-416b-c9ef-4c461fd5ce3b"
      },
      "execution_count": null,
      "outputs": [
        {
          "output_type": "stream",
          "name": "stdout",
          "text": [
            "tensor([9, 3, 1, 9, 1, 6, 9, 6, 5, 5, 5, 2, 8, 7, 5, 6, 2, 4, 7, 2, 1, 4, 9, 2,\n",
            "        8, 4, 1, 7, 1, 6, 0, 0, 2, 1, 2, 7, 0, 1, 7, 4, 7, 9, 8, 0, 7, 9, 1, 1,\n",
            "        7, 6, 3, 7, 6, 7, 6, 9, 3, 1, 1, 4, 8, 1, 9, 5, 8, 5, 8, 2, 4, 4, 0, 0,\n",
            "        2, 2, 5, 9, 1, 0, 9, 2, 5, 2, 4, 8, 4, 6, 4, 2, 8, 3, 9, 6, 7, 5, 8, 5,\n",
            "        9, 4, 5, 1])\n",
            "torch.Size([100, 1, 28, 28])\n"
          ]
        }
      ]
    },
    {
      "cell_type": "code",
      "source": [
        "class MnistModel(nn.Module):\n",
        "  def __init__(self):\n",
        "    super().__init__()\n",
        "    self.linear=nn.Linear(input_size,num_classes)\n",
        "\n",
        "  def forward(self,xb):\n",
        "    xb=xb.reshape(-1,784)\n",
        "    out=self.linear(xb)\n",
        "    return out"
      ],
      "metadata": {
        "id": "hSELiDYF_aG2"
      },
      "execution_count": null,
      "outputs": []
    },
    {
      "cell_type": "code",
      "source": [
        "model=MnistModel()"
      ],
      "metadata": {
        "id": "M1NGhqnZ_9iC"
      },
      "execution_count": null,
      "outputs": []
    },
    {
      "cell_type": "code",
      "source": [
        "print(model.linear.weight.shape,model.linear.bias.shape)"
      ],
      "metadata": {
        "colab": {
          "base_uri": "https://localhost:8080/"
        },
        "id": "_eOrzpwMASsS",
        "outputId": "2ed09d8a-728e-4d8c-84cc-c821b43be8ab"
      },
      "execution_count": null,
      "outputs": [
        {
          "output_type": "stream",
          "name": "stdout",
          "text": [
            "torch.Size([10, 784]) torch.Size([10])\n"
          ]
        }
      ]
    },
    {
      "cell_type": "code",
      "source": [
        "list(model.parameters())"
      ],
      "metadata": {
        "colab": {
          "base_uri": "https://localhost:8080/"
        },
        "id": "M2gl1Y8GAyTN",
        "outputId": "30918b2c-27f2-4204-a9d9-dd63b94734fe"
      },
      "execution_count": null,
      "outputs": [
        {
          "output_type": "execute_result",
          "data": {
            "text/plain": [
              "[Parameter containing:\n",
              " tensor([[-0.0220, -0.0310,  0.0321,  ...,  0.0197, -0.0314,  0.0354],\n",
              "         [ 0.0201, -0.0114,  0.0244,  ..., -0.0014,  0.0319, -0.0244],\n",
              "         [ 0.0127,  0.0197, -0.0042,  ...,  0.0206, -0.0160, -0.0142],\n",
              "         ...,\n",
              "         [-0.0126, -0.0039, -0.0026,  ...,  0.0280,  0.0022,  0.0134],\n",
              "         [-0.0216, -0.0078,  0.0026,  ..., -0.0014, -0.0158, -0.0250],\n",
              "         [ 0.0237,  0.0050, -0.0010,  ..., -0.0318,  0.0254, -0.0304]],\n",
              "        requires_grad=True),\n",
              " Parameter containing:\n",
              " tensor([-0.0141,  0.0245,  0.0002,  0.0160, -0.0271, -0.0199,  0.0165,  0.0056,\n",
              "         -0.0168,  0.0163], requires_grad=True)]"
            ]
          },
          "metadata": {},
          "execution_count": 27
        }
      ]
    },
    {
      "cell_type": "code",
      "source": [
        "for images, labels in train_loader:\n",
        "  outputs=model(images)\n",
        "  break\n",
        "\n",
        "print(\"outputs.shape:\",outputs.shape)\n",
        "print(\"Sample outputs\\n\", outputs[:2])\n"
      ],
      "metadata": {
        "colab": {
          "base_uri": "https://localhost:8080/"
        },
        "id": "3b_F4i23A2MO",
        "outputId": "cffc210e-883a-4885-f0e1-9a604ea6c561"
      },
      "execution_count": null,
      "outputs": [
        {
          "output_type": "stream",
          "name": "stdout",
          "text": [
            "outputs.shape: torch.Size([100, 10])\n",
            "Sample outputs\n",
            " tensor([[ 0.2797,  0.0788,  0.0488, -0.1032,  0.2269, -0.0529, -0.2094,  0.0081,\n",
            "          0.1981, -0.0687],\n",
            "        [ 0.0861, -0.0269,  0.2017, -0.1473,  0.1354, -0.0715, -0.0340,  0.1071,\n",
            "          0.1914,  0.0362]], grad_fn=<SliceBackward0>)\n"
          ]
        }
      ]
    },
    {
      "cell_type": "code",
      "source": [
        "import torch.nn.functional as F"
      ],
      "metadata": {
        "id": "W_9kOX81BZCS"
      },
      "execution_count": null,
      "outputs": []
    },
    {
      "cell_type": "code",
      "source": [
        "# APPLY softmax for each output row\n",
        "probs=F.softmax(outputs,dim=1)\n",
        "\n",
        "# Look at sample probabilities\n",
        "print(\"Sample probabilities\\n\", probs[:2])\n",
        "\n",
        "# Add up the probabilities of an output row\n",
        "print(\"Sum: \", torch.sum(probs[0]).item())"
      ],
      "metadata": {
        "colab": {
          "base_uri": "https://localhost:8080/"
        },
        "id": "V5MXOoF4BuZH",
        "outputId": "61048622-5829-44d3-ea7b-82b1b1dc4555"
      },
      "execution_count": null,
      "outputs": [
        {
          "output_type": "stream",
          "name": "stdout",
          "text": [
            "Sample probabilities\n",
            " tensor([[0.1256, 0.1027, 0.0997, 0.0856, 0.1191, 0.0901, 0.0770, 0.0957, 0.1158,\n",
            "         0.0886],\n",
            "        [0.1033, 0.0922, 0.1159, 0.0818, 0.1085, 0.0882, 0.0916, 0.1055, 0.1148,\n",
            "         0.0982]], grad_fn=<SliceBackward0>)\n",
            "Sum:  1.0\n"
          ]
        }
      ]
    },
    {
      "cell_type": "code",
      "source": [
        "max_probs,preds=torch.max(probs,dim=1)\n",
        "print(preds)\n",
        "print(max_probs)"
      ],
      "metadata": {
        "colab": {
          "base_uri": "https://localhost:8080/"
        },
        "id": "v_mqFqwmCDKH",
        "outputId": "785b5fb5-b42e-46c8-ab64-95fab4da8d56"
      },
      "execution_count": null,
      "outputs": [
        {
          "output_type": "stream",
          "name": "stdout",
          "text": [
            "tensor([0, 2, 2, 2, 4, 2, 4, 7, 0, 2, 8, 8, 2, 2, 8, 3, 4, 0, 2, 2, 0, 1, 1, 2,\n",
            "        3, 2, 2, 2, 2, 4, 9, 8, 4, 3, 8, 0, 2, 8, 2, 4, 2, 8, 2, 2, 0, 2, 0, 9,\n",
            "        1, 9, 2, 8, 4, 2, 8, 0, 0, 2, 2, 2, 2, 8, 4, 2, 2, 1, 4, 2, 1, 4, 2, 0,\n",
            "        2, 2, 2, 9, 8, 2, 4, 2, 2, 4, 2, 4, 4, 2, 3, 4, 2, 4, 8, 2, 2, 2, 2, 0,\n",
            "        0, 0, 2, 2])\n",
            "tensor([0.1256, 0.1159, 0.1219, 0.1324, 0.1486, 0.1264, 0.1226, 0.1362, 0.1205,\n",
            "        0.1243, 0.1251, 0.1348, 0.1164, 0.1280, 0.1284, 0.1212, 0.1461, 0.1299,\n",
            "        0.1303, 0.1311, 0.1258, 0.1320, 0.1302, 0.1393, 0.1197, 0.1511, 0.1474,\n",
            "        0.1186, 0.1513, 0.1281, 0.1247, 0.1137, 0.1198, 0.1296, 0.1203, 0.1324,\n",
            "        0.1378, 0.1272, 0.1415, 0.1337, 0.1369, 0.1202, 0.1365, 0.1305, 0.1342,\n",
            "        0.1439, 0.1125, 0.1328, 0.1198, 0.1166, 0.1369, 0.1206, 0.1456, 0.1403,\n",
            "        0.1244, 0.1329, 0.1400, 0.1259, 0.1319, 0.1685, 0.1330, 0.1196, 0.1244,\n",
            "        0.1409, 0.1464, 0.1187, 0.1379, 0.1191, 0.1412, 0.1204, 0.1345, 0.1277,\n",
            "        0.1343, 0.1482, 0.1355, 0.1169, 0.1303, 0.1260, 0.1241, 0.1205, 0.1291,\n",
            "        0.1158, 0.1363, 0.1452, 0.1358, 0.1278, 0.1299, 0.1433, 0.1373, 0.1254,\n",
            "        0.1355, 0.1233, 0.1305, 0.1243, 0.1373, 0.1227, 0.1216, 0.1225, 0.1333,\n",
            "        0.1333], grad_fn=<MaxBackward0>)\n"
          ]
        }
      ]
    },
    {
      "cell_type": "code",
      "source": [
        "labels"
      ],
      "metadata": {
        "colab": {
          "base_uri": "https://localhost:8080/"
        },
        "id": "iiEdmaLOCTax",
        "outputId": "1127acd8-afe5-4a8f-d95b-64769028d019"
      },
      "execution_count": null,
      "outputs": [
        {
          "output_type": "execute_result",
          "data": {
            "text/plain": [
              "tensor([5, 9, 6, 1, 0, 7, 6, 8, 6, 8, 6, 5, 9, 9, 2, 5, 0, 9, 7, 8, 3, 3, 0, 9,\n",
              "        8, 8, 4, 7, 9, 0, 3, 3, 2, 9, 9, 4, 3, 6, 9, 5, 4, 2, 8, 9, 4, 9, 5, 8,\n",
              "        5, 0, 1, 0, 3, 8, 6, 5, 4, 2, 2, 4, 8, 0, 8, 3, 8, 5, 5, 3, 6, 9, 4, 7,\n",
              "        4, 4, 9, 1, 3, 3, 3, 8, 5, 1, 0, 0, 0, 9, 3, 3, 8, 6, 6, 1, 9, 9, 8, 8,\n",
              "        2, 5, 7, 4])"
            ]
          },
          "metadata": {},
          "execution_count": 32
        }
      ]
    },
    {
      "cell_type": "code",
      "source": [
        "def accuracy(labels,preds):\n",
        "  return torch.tensor(torch.sum(preds==labels).item()/len(preds))"
      ],
      "metadata": {
        "id": "i00izvKXCgUA"
      },
      "execution_count": null,
      "outputs": []
    },
    {
      "cell_type": "code",
      "source": [
        "accu=accuracy(labels,preds)\n",
        "accu"
      ],
      "metadata": {
        "id": "2oH-pvapDFj_",
        "colab": {
          "base_uri": "https://localhost:8080/"
        },
        "outputId": "97568c97-bd62-4deb-d25f-51f5e97767af"
      },
      "execution_count": null,
      "outputs": [
        {
          "output_type": "execute_result",
          "data": {
            "text/plain": [
              "tensor(0.0300)"
            ]
          },
          "metadata": {},
          "execution_count": 41
        }
      ]
    },
    {
      "cell_type": "code",
      "source": [
        "loss_fn=F.cross_entropy"
      ],
      "metadata": {
        "id": "B5wSQQmWDHBd"
      },
      "execution_count": null,
      "outputs": []
    },
    {
      "cell_type": "code",
      "source": [
        "loss_fn(outputs,labels)\n"
      ],
      "metadata": {
        "colab": {
          "base_uri": "https://localhost:8080/"
        },
        "id": "SYEemSLxDgJC",
        "outputId": "120e2ddf-33fa-46df-d045-3624b19b622e"
      },
      "execution_count": null,
      "outputs": [
        {
          "output_type": "execute_result",
          "data": {
            "text/plain": [
              "tensor(2.3548, grad_fn=<NllLossBackward0>)"
            ]
          },
          "metadata": {},
          "execution_count": 43
        }
      ]
    },
    {
      "cell_type": "markdown",
      "source": [
        "# Optimizer"
      ],
      "metadata": {
        "id": "VtVqMyEOD5Fr"
      }
    },
    {
      "cell_type": "code",
      "source": [
        "learning_rate=0.001\n",
        "optimizer=torch.optim.SGD(model.parameters(),lr=learning_rate)"
      ],
      "metadata": {
        "id": "jRkSvFLHDi-y"
      },
      "execution_count": null,
      "outputs": []
    },
    {
      "cell_type": "code",
      "source": [
        "def loss_batch(model,loss_fn,xb,yb,opt=None,metrics=None):\n",
        "\n",
        "  # generate predictions\n",
        "  preds=model(xb)\n",
        "  loss=loss_fn(preds,yb)\n",
        "\n",
        "  if opt is not None:\n",
        "    # calculate gradients\n",
        "    loss.backward()\n",
        "    # update parameters\n",
        "    opt.step()\n",
        "    # reset gradients\n",
        "    opt.zero_grad()\n",
        "\n",
        "  metric_result=None\n",
        "  if metrics is not None:\n",
        "    metric_result=metrics(preds,yb)\n",
        "\n",
        "  return loss.item(),len(xb),metric_result"
      ],
      "metadata": {
        "id": "XjXMa_3vECtW"
      },
      "execution_count": null,
      "outputs": []
    },
    {
      "cell_type": "code",
      "source": [
        "def evaluate(model,loss_fn,valid_dl,metric=None):\n",
        "  with torch.no_grad():\n",
        "    results=[loss_batch(model,loss_fn,xb,yb,metrics=metric) for xb,yb in valid_dl]\n",
        "    losses,nums,metrics=zip(*results)\n",
        "    total=np.sum(nums)\n",
        "\n",
        "    avg_loss=np.sum(np.multiply(losses,nums))/total\n",
        "\n",
        "    avg_metric=None\n",
        "    if metric is not None:\n",
        "      avg_metric=np.sum(np.multiply(metrics,nums))/total\n",
        "\n",
        "  return avg_loss,total,avg_metric"
      ],
      "metadata": {
        "id": "hYNTsegvEz0c"
      },
      "execution_count": null,
      "outputs": []
    },
    {
      "cell_type": "code",
      "source": [
        "def accuracy(outputs,labels):\n",
        "  _,preds=torch.max(outputs,dim=1)\n",
        "  return torch.tensor(torch.sum(preds==labels).item()/len(preds))"
      ],
      "metadata": {
        "id": "Z2ca65fVK0CP"
      },
      "execution_count": null,
      "outputs": []
    },
    {
      "cell_type": "code",
      "source": [
        "val_loss,total,val_metric=evaluate(model,loss_fn,val_loader,metric=accuracy)"
      ],
      "metadata": {
        "id": "ggA9o66QJK9w"
      },
      "execution_count": null,
      "outputs": []
    },
    {
      "cell_type": "code",
      "source": [
        "print(\"val_loss:\",val_loss)\n",
        "print(\"total:\",total)\n",
        "print(\"val_metric:\",val_metric)"
      ],
      "metadata": {
        "colab": {
          "base_uri": "https://localhost:8080/"
        },
        "id": "2adCIf45JaXa",
        "outputId": "cf5427ad-2d9c-4dbe-e101-51a7ff5261fc"
      },
      "execution_count": null,
      "outputs": [
        {
          "output_type": "stream",
          "name": "stdout",
          "text": [
            "val_loss: 2.352628030379613\n",
            "total: 12000\n",
            "val_metric: 0.06799999990810951\n"
          ]
        }
      ]
    },
    {
      "cell_type": "code",
      "source": [
        "from math import e\n",
        "def fit(epochs,model,loss_fn,train_dl,valid_dl,opt,metric=None):\n",
        "  for epoch in range(epochs):\n",
        "    for xb,yb in train_dl:\n",
        "      train_loss,_,_=loss_batch(model,loss_fn,xb,yb,opt,metric)\n",
        "    # Evaluation\n",
        "    result=evaluate(model,loss_fn,valid_dl,metric)\n",
        "    val_loss,total,val_metric=result\n",
        "\n",
        "    # print progress:\n",
        "    if metric is None:\n",
        "      print(\"Epoch [{}/{}],train_loss:{:.4f}\\tval_loss:{:.4f}\".format(\n",
        "          epoch+1,epochs,train_loss,val_loss))\n",
        "    else:\n",
        "      print(\"Epoch [{}/{}],train_loss:{:.4f}\\tval_loss:{:.4f}\\tval_{}:{}\".format(\n",
        "          epoch+1,epochs,train_loss,val_loss,metric.__name__,val_metric))"
      ],
      "metadata": {
        "id": "hSejpccQK7TJ"
      },
      "execution_count": null,
      "outputs": []
    },
    {
      "cell_type": "code",
      "source": [
        "model=MnistModel()\n",
        "optimizer=torch.optim.SGD(model.parameters(),lr=0.001)"
      ],
      "metadata": {
        "id": "YasB6N9ALwZH"
      },
      "execution_count": null,
      "outputs": []
    },
    {
      "cell_type": "code",
      "source": [
        "fit(5,model,loss_fn,train_loader,val_loader,optimizer,accuracy)"
      ],
      "metadata": {
        "colab": {
          "base_uri": "https://localhost:8080/"
        },
        "id": "0FOmYconL48_",
        "outputId": "0f7b29dd-4056-4522-efa2-9da6d29e25a1"
      },
      "execution_count": null,
      "outputs": [
        {
          "output_type": "stream",
          "name": "stdout",
          "text": [
            "Epoch [1/5],train_loss:1.8938\tval_loss:1.8703\tval_accuracy:0.6599999984105428\n",
            "Epoch [2/5],train_loss:1.5956\tval_loss:1.5726\tval_accuracy:0.7484166661898295\n",
            "Epoch [3/5],train_loss:1.3878\tval_loss:1.3633\tval_accuracy:0.7764999990661939\n",
            "Epoch [4/5],train_loss:1.2177\tval_loss:1.2127\tval_accuracy:0.7973333343863487\n",
            "Epoch [5/5],train_loss:1.1510\tval_loss:1.1010\tval_accuracy:0.8075833295782407\n"
          ]
        }
      ]
    },
    {
      "cell_type": "code",
      "source": [
        "fit(10,model,loss_fn,train_loader,val_loader,optimizer,accuracy)"
      ],
      "metadata": {
        "colab": {
          "base_uri": "https://localhost:8080/"
        },
        "id": "feKkCSqGL-AK",
        "outputId": "edc69f20-68e4-4120-f5e6-f478e18e20af"
      },
      "execution_count": null,
      "outputs": [
        {
          "output_type": "stream",
          "name": "stdout",
          "text": [
            "Epoch [1/10],train_loss:1.0140\tval_loss:1.0152\tval_accuracy:0.8167499984304111\n",
            "Epoch [2/10],train_loss:0.8898\tval_loss:0.9476\tval_accuracy:0.8239999999602635\n",
            "Epoch [3/10],train_loss:0.7948\tval_loss:0.8931\tval_accuracy:0.8300833314657211\n",
            "Epoch [4/10],train_loss:0.8152\tval_loss:0.8480\tval_accuracy:0.8340833321213722\n",
            "Epoch [5/10],train_loss:0.9024\tval_loss:0.8102\tval_accuracy:0.8381666650374731\n",
            "Epoch [6/10],train_loss:0.7326\tval_loss:0.7779\tval_accuracy:0.8415833334128062\n",
            "Epoch [7/10],train_loss:0.7637\tval_loss:0.7501\tval_accuracy:0.844999997317791\n",
            "Epoch [8/10],train_loss:0.6822\tval_loss:0.7257\tval_accuracy:0.8475833331545194\n",
            "Epoch [9/10],train_loss:0.7933\tval_loss:0.7043\tval_accuracy:0.8493333324790001\n",
            "Epoch [10/10],train_loss:0.7534\tval_loss:0.6852\tval_accuracy:0.8517499978343646\n"
          ]
        }
      ]
    },
    {
      "cell_type": "code",
      "source": [],
      "metadata": {
        "id": "PZ8_oPo9Ou8f"
      },
      "execution_count": null,
      "outputs": []
    }
  ]
}