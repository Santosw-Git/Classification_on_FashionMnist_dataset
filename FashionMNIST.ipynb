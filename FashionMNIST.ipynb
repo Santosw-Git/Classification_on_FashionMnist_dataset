{
  "nbformat": 4,
  "nbformat_minor": 0,
  "metadata": {
    "colab": {
      "provenance": [],
      "gpuType": "T4",
      "authorship_tag": "ABX9TyMbuTgaiD8zdZBpkjh6cffi",
      "include_colab_link": true
    },
    "kernelspec": {
      "name": "python3",
      "display_name": "Python 3"
    },
    "language_info": {
      "name": "python"
    },
    "accelerator": "GPU"
  },
  "cells": [
    {
      "cell_type": "markdown",
      "metadata": {
        "id": "view-in-github",
        "colab_type": "text"
      },
      "source": [
        "<a href=\"https://colab.research.google.com/github/Santosw-Git/Classification_on_FashionMnist_dataset/blob/main/FashionMNIST.ipynb\" target=\"_parent\"><img src=\"https://colab.research.google.com/assets/colab-badge.svg\" alt=\"Open In Colab\"/></a>"
      ]
    },
    {
      "cell_type": "code",
      "execution_count": null,
      "metadata": {
        "id": "eCZLk29MK4fc"
      },
      "outputs": [],
      "source": [
        "import pandas as pd\n",
        "from sklearn.model_selection import train_test_split\n",
        "import torch\n",
        "from torch.utils.data import Dataset, DataLoader\n",
        "from torch import nn\n",
        "import torch.optim as optim\n",
        "import matplotlib.pyplot as plt"
      ]
    },
    {
      "cell_type": "code",
      "source": [
        "\n"
      ],
      "metadata": {
        "id": "tUau0wcckrPy"
      },
      "execution_count": null,
      "outputs": []
    },
    {
      "cell_type": "code",
      "source": [
        "if torch.cuda.is_available():\n",
        "  device=torch.device('cuda')\n",
        "else:\n",
        "  device=torch.device('cpu')"
      ],
      "metadata": {
        "id": "DtTVo4OOjk3B"
      },
      "execution_count": null,
      "outputs": []
    },
    {
      "cell_type": "code",
      "source": [
        "torch.manual_seed(42)"
      ],
      "metadata": {
        "colab": {
          "base_uri": "https://localhost:8080/"
        },
        "id": "hvH34MXZL8QU",
        "outputId": "c0c156d5-efd4-440d-fc2c-900735c6639f"
      },
      "execution_count": null,
      "outputs": [
        {
          "output_type": "execute_result",
          "data": {
            "text/plain": [
              "<torch._C.Generator at 0x780ce0d51d10>"
            ]
          },
          "metadata": {},
          "execution_count": 106
        }
      ]
    },
    {
      "cell_type": "code",
      "source": [
        "df = pd.read_csv('/content/fashion-mnist_train.csv')"
      ],
      "metadata": {
        "id": "wcZjXk_8MCBN"
      },
      "execution_count": null,
      "outputs": []
    },
    {
      "cell_type": "code",
      "source": [
        "df.shape"
      ],
      "metadata": {
        "colab": {
          "base_uri": "https://localhost:8080/"
        },
        "id": "LrASC18HMYs7",
        "outputId": "9553ba64-b8ea-463a-8d0a-59cd92526b9f"
      },
      "execution_count": null,
      "outputs": [
        {
          "output_type": "execute_result",
          "data": {
            "text/plain": [
              "(60000, 785)"
            ]
          },
          "metadata": {},
          "execution_count": 108
        }
      ]
    },
    {
      "cell_type": "code",
      "source": [
        "df.head(3)"
      ],
      "metadata": {
        "colab": {
          "base_uri": "https://localhost:8080/",
          "height": 193
        },
        "id": "yD3yYUe7MaaQ",
        "outputId": "f5a9753b-79fd-45a4-fdf1-09bfeb357fd1"
      },
      "execution_count": null,
      "outputs": [
        {
          "output_type": "execute_result",
          "data": {
            "text/plain": [
              "   label  pixel1  pixel2  pixel3  pixel4  pixel5  pixel6  pixel7  pixel8  \\\n",
              "0      2       0       0       0       0       0       0       0       0   \n",
              "1      9       0       0       0       0       0       0       0       0   \n",
              "2      6       0       0       0       0       0       0       0       5   \n",
              "\n",
              "   pixel9  ...  pixel775  pixel776  pixel777  pixel778  pixel779  pixel780  \\\n",
              "0       0  ...         0         0         0         0         0         0   \n",
              "1       0  ...         0         0         0         0         0         0   \n",
              "2       0  ...         0         0         0        30        43         0   \n",
              "\n",
              "   pixel781  pixel782  pixel783  pixel784  \n",
              "0         0         0         0         0  \n",
              "1         0         0         0         0  \n",
              "2         0         0         0         0  \n",
              "\n",
              "[3 rows x 785 columns]"
            ],
            "text/html": [
              "\n",
              "  <div id=\"df-5a5599b3-5dcb-4858-bdd0-d6e7bd97f16b\" class=\"colab-df-container\">\n",
              "    <div>\n",
              "<style scoped>\n",
              "    .dataframe tbody tr th:only-of-type {\n",
              "        vertical-align: middle;\n",
              "    }\n",
              "\n",
              "    .dataframe tbody tr th {\n",
              "        vertical-align: top;\n",
              "    }\n",
              "\n",
              "    .dataframe thead th {\n",
              "        text-align: right;\n",
              "    }\n",
              "</style>\n",
              "<table border=\"1\" class=\"dataframe\">\n",
              "  <thead>\n",
              "    <tr style=\"text-align: right;\">\n",
              "      <th></th>\n",
              "      <th>label</th>\n",
              "      <th>pixel1</th>\n",
              "      <th>pixel2</th>\n",
              "      <th>pixel3</th>\n",
              "      <th>pixel4</th>\n",
              "      <th>pixel5</th>\n",
              "      <th>pixel6</th>\n",
              "      <th>pixel7</th>\n",
              "      <th>pixel8</th>\n",
              "      <th>pixel9</th>\n",
              "      <th>...</th>\n",
              "      <th>pixel775</th>\n",
              "      <th>pixel776</th>\n",
              "      <th>pixel777</th>\n",
              "      <th>pixel778</th>\n",
              "      <th>pixel779</th>\n",
              "      <th>pixel780</th>\n",
              "      <th>pixel781</th>\n",
              "      <th>pixel782</th>\n",
              "      <th>pixel783</th>\n",
              "      <th>pixel784</th>\n",
              "    </tr>\n",
              "  </thead>\n",
              "  <tbody>\n",
              "    <tr>\n",
              "      <th>0</th>\n",
              "      <td>2</td>\n",
              "      <td>0</td>\n",
              "      <td>0</td>\n",
              "      <td>0</td>\n",
              "      <td>0</td>\n",
              "      <td>0</td>\n",
              "      <td>0</td>\n",
              "      <td>0</td>\n",
              "      <td>0</td>\n",
              "      <td>0</td>\n",
              "      <td>...</td>\n",
              "      <td>0</td>\n",
              "      <td>0</td>\n",
              "      <td>0</td>\n",
              "      <td>0</td>\n",
              "      <td>0</td>\n",
              "      <td>0</td>\n",
              "      <td>0</td>\n",
              "      <td>0</td>\n",
              "      <td>0</td>\n",
              "      <td>0</td>\n",
              "    </tr>\n",
              "    <tr>\n",
              "      <th>1</th>\n",
              "      <td>9</td>\n",
              "      <td>0</td>\n",
              "      <td>0</td>\n",
              "      <td>0</td>\n",
              "      <td>0</td>\n",
              "      <td>0</td>\n",
              "      <td>0</td>\n",
              "      <td>0</td>\n",
              "      <td>0</td>\n",
              "      <td>0</td>\n",
              "      <td>...</td>\n",
              "      <td>0</td>\n",
              "      <td>0</td>\n",
              "      <td>0</td>\n",
              "      <td>0</td>\n",
              "      <td>0</td>\n",
              "      <td>0</td>\n",
              "      <td>0</td>\n",
              "      <td>0</td>\n",
              "      <td>0</td>\n",
              "      <td>0</td>\n",
              "    </tr>\n",
              "    <tr>\n",
              "      <th>2</th>\n",
              "      <td>6</td>\n",
              "      <td>0</td>\n",
              "      <td>0</td>\n",
              "      <td>0</td>\n",
              "      <td>0</td>\n",
              "      <td>0</td>\n",
              "      <td>0</td>\n",
              "      <td>0</td>\n",
              "      <td>5</td>\n",
              "      <td>0</td>\n",
              "      <td>...</td>\n",
              "      <td>0</td>\n",
              "      <td>0</td>\n",
              "      <td>0</td>\n",
              "      <td>30</td>\n",
              "      <td>43</td>\n",
              "      <td>0</td>\n",
              "      <td>0</td>\n",
              "      <td>0</td>\n",
              "      <td>0</td>\n",
              "      <td>0</td>\n",
              "    </tr>\n",
              "  </tbody>\n",
              "</table>\n",
              "<p>3 rows × 785 columns</p>\n",
              "</div>\n",
              "    <div class=\"colab-df-buttons\">\n",
              "\n",
              "  <div class=\"colab-df-container\">\n",
              "    <button class=\"colab-df-convert\" onclick=\"convertToInteractive('df-5a5599b3-5dcb-4858-bdd0-d6e7bd97f16b')\"\n",
              "            title=\"Convert this dataframe to an interactive table.\"\n",
              "            style=\"display:none;\">\n",
              "\n",
              "  <svg xmlns=\"http://www.w3.org/2000/svg\" height=\"24px\" viewBox=\"0 -960 960 960\">\n",
              "    <path d=\"M120-120v-720h720v720H120Zm60-500h600v-160H180v160Zm220 220h160v-160H400v160Zm0 220h160v-160H400v160ZM180-400h160v-160H180v160Zm440 0h160v-160H620v160ZM180-180h160v-160H180v160Zm440 0h160v-160H620v160Z\"/>\n",
              "  </svg>\n",
              "    </button>\n",
              "\n",
              "  <style>\n",
              "    .colab-df-container {\n",
              "      display:flex;\n",
              "      gap: 12px;\n",
              "    }\n",
              "\n",
              "    .colab-df-convert {\n",
              "      background-color: #E8F0FE;\n",
              "      border: none;\n",
              "      border-radius: 50%;\n",
              "      cursor: pointer;\n",
              "      display: none;\n",
              "      fill: #1967D2;\n",
              "      height: 32px;\n",
              "      padding: 0 0 0 0;\n",
              "      width: 32px;\n",
              "    }\n",
              "\n",
              "    .colab-df-convert:hover {\n",
              "      background-color: #E2EBFA;\n",
              "      box-shadow: 0px 1px 2px rgba(60, 64, 67, 0.3), 0px 1px 3px 1px rgba(60, 64, 67, 0.15);\n",
              "      fill: #174EA6;\n",
              "    }\n",
              "\n",
              "    .colab-df-buttons div {\n",
              "      margin-bottom: 4px;\n",
              "    }\n",
              "\n",
              "    [theme=dark] .colab-df-convert {\n",
              "      background-color: #3B4455;\n",
              "      fill: #D2E3FC;\n",
              "    }\n",
              "\n",
              "    [theme=dark] .colab-df-convert:hover {\n",
              "      background-color: #434B5C;\n",
              "      box-shadow: 0px 1px 3px 1px rgba(0, 0, 0, 0.15);\n",
              "      filter: drop-shadow(0px 1px 2px rgba(0, 0, 0, 0.3));\n",
              "      fill: #FFFFFF;\n",
              "    }\n",
              "  </style>\n",
              "\n",
              "    <script>\n",
              "      const buttonEl =\n",
              "        document.querySelector('#df-5a5599b3-5dcb-4858-bdd0-d6e7bd97f16b button.colab-df-convert');\n",
              "      buttonEl.style.display =\n",
              "        google.colab.kernel.accessAllowed ? 'block' : 'none';\n",
              "\n",
              "      async function convertToInteractive(key) {\n",
              "        const element = document.querySelector('#df-5a5599b3-5dcb-4858-bdd0-d6e7bd97f16b');\n",
              "        const dataTable =\n",
              "          await google.colab.kernel.invokeFunction('convertToInteractive',\n",
              "                                                    [key], {});\n",
              "        if (!dataTable) return;\n",
              "\n",
              "        const docLinkHtml = 'Like what you see? Visit the ' +\n",
              "          '<a target=\"_blank\" href=https://colab.research.google.com/notebooks/data_table.ipynb>data table notebook</a>'\n",
              "          + ' to learn more about interactive tables.';\n",
              "        element.innerHTML = '';\n",
              "        dataTable['output_type'] = 'display_data';\n",
              "        await google.colab.output.renderOutput(dataTable, element);\n",
              "        const docLink = document.createElement('div');\n",
              "        docLink.innerHTML = docLinkHtml;\n",
              "        element.appendChild(docLink);\n",
              "      }\n",
              "    </script>\n",
              "  </div>\n",
              "\n",
              "\n",
              "<div id=\"df-bf3d37a4-79df-4c1f-8ef2-0b461fb678d0\">\n",
              "  <button class=\"colab-df-quickchart\" onclick=\"quickchart('df-bf3d37a4-79df-4c1f-8ef2-0b461fb678d0')\"\n",
              "            title=\"Suggest charts\"\n",
              "            style=\"display:none;\">\n",
              "\n",
              "<svg xmlns=\"http://www.w3.org/2000/svg\" height=\"24px\"viewBox=\"0 0 24 24\"\n",
              "     width=\"24px\">\n",
              "    <g>\n",
              "        <path d=\"M19 3H5c-1.1 0-2 .9-2 2v14c0 1.1.9 2 2 2h14c1.1 0 2-.9 2-2V5c0-1.1-.9-2-2-2zM9 17H7v-7h2v7zm4 0h-2V7h2v10zm4 0h-2v-4h2v4z\"/>\n",
              "    </g>\n",
              "</svg>\n",
              "  </button>\n",
              "\n",
              "<style>\n",
              "  .colab-df-quickchart {\n",
              "      --bg-color: #E8F0FE;\n",
              "      --fill-color: #1967D2;\n",
              "      --hover-bg-color: #E2EBFA;\n",
              "      --hover-fill-color: #174EA6;\n",
              "      --disabled-fill-color: #AAA;\n",
              "      --disabled-bg-color: #DDD;\n",
              "  }\n",
              "\n",
              "  [theme=dark] .colab-df-quickchart {\n",
              "      --bg-color: #3B4455;\n",
              "      --fill-color: #D2E3FC;\n",
              "      --hover-bg-color: #434B5C;\n",
              "      --hover-fill-color: #FFFFFF;\n",
              "      --disabled-bg-color: #3B4455;\n",
              "      --disabled-fill-color: #666;\n",
              "  }\n",
              "\n",
              "  .colab-df-quickchart {\n",
              "    background-color: var(--bg-color);\n",
              "    border: none;\n",
              "    border-radius: 50%;\n",
              "    cursor: pointer;\n",
              "    display: none;\n",
              "    fill: var(--fill-color);\n",
              "    height: 32px;\n",
              "    padding: 0;\n",
              "    width: 32px;\n",
              "  }\n",
              "\n",
              "  .colab-df-quickchart:hover {\n",
              "    background-color: var(--hover-bg-color);\n",
              "    box-shadow: 0 1px 2px rgba(60, 64, 67, 0.3), 0 1px 3px 1px rgba(60, 64, 67, 0.15);\n",
              "    fill: var(--button-hover-fill-color);\n",
              "  }\n",
              "\n",
              "  .colab-df-quickchart-complete:disabled,\n",
              "  .colab-df-quickchart-complete:disabled:hover {\n",
              "    background-color: var(--disabled-bg-color);\n",
              "    fill: var(--disabled-fill-color);\n",
              "    box-shadow: none;\n",
              "  }\n",
              "\n",
              "  .colab-df-spinner {\n",
              "    border: 2px solid var(--fill-color);\n",
              "    border-color: transparent;\n",
              "    border-bottom-color: var(--fill-color);\n",
              "    animation:\n",
              "      spin 1s steps(1) infinite;\n",
              "  }\n",
              "\n",
              "  @keyframes spin {\n",
              "    0% {\n",
              "      border-color: transparent;\n",
              "      border-bottom-color: var(--fill-color);\n",
              "      border-left-color: var(--fill-color);\n",
              "    }\n",
              "    20% {\n",
              "      border-color: transparent;\n",
              "      border-left-color: var(--fill-color);\n",
              "      border-top-color: var(--fill-color);\n",
              "    }\n",
              "    30% {\n",
              "      border-color: transparent;\n",
              "      border-left-color: var(--fill-color);\n",
              "      border-top-color: var(--fill-color);\n",
              "      border-right-color: var(--fill-color);\n",
              "    }\n",
              "    40% {\n",
              "      border-color: transparent;\n",
              "      border-right-color: var(--fill-color);\n",
              "      border-top-color: var(--fill-color);\n",
              "    }\n",
              "    60% {\n",
              "      border-color: transparent;\n",
              "      border-right-color: var(--fill-color);\n",
              "    }\n",
              "    80% {\n",
              "      border-color: transparent;\n",
              "      border-right-color: var(--fill-color);\n",
              "      border-bottom-color: var(--fill-color);\n",
              "    }\n",
              "    90% {\n",
              "      border-color: transparent;\n",
              "      border-bottom-color: var(--fill-color);\n",
              "    }\n",
              "  }\n",
              "</style>\n",
              "\n",
              "  <script>\n",
              "    async function quickchart(key) {\n",
              "      const quickchartButtonEl =\n",
              "        document.querySelector('#' + key + ' button');\n",
              "      quickchartButtonEl.disabled = true;  // To prevent multiple clicks.\n",
              "      quickchartButtonEl.classList.add('colab-df-spinner');\n",
              "      try {\n",
              "        const charts = await google.colab.kernel.invokeFunction(\n",
              "            'suggestCharts', [key], {});\n",
              "      } catch (error) {\n",
              "        console.error('Error during call to suggestCharts:', error);\n",
              "      }\n",
              "      quickchartButtonEl.classList.remove('colab-df-spinner');\n",
              "      quickchartButtonEl.classList.add('colab-df-quickchart-complete');\n",
              "    }\n",
              "    (() => {\n",
              "      let quickchartButtonEl =\n",
              "        document.querySelector('#df-bf3d37a4-79df-4c1f-8ef2-0b461fb678d0 button');\n",
              "      quickchartButtonEl.style.display =\n",
              "        google.colab.kernel.accessAllowed ? 'block' : 'none';\n",
              "    })();\n",
              "  </script>\n",
              "</div>\n",
              "\n",
              "    </div>\n",
              "  </div>\n"
            ],
            "application/vnd.google.colaboratory.intrinsic+json": {
              "type": "dataframe",
              "variable_name": "df"
            }
          },
          "metadata": {},
          "execution_count": 109
        }
      ]
    },
    {
      "cell_type": "code",
      "source": [
        "X=df.iloc[:,1:].to_numpy()\n",
        "y=df.iloc[:,0].to_numpy()"
      ],
      "metadata": {
        "id": "QRXEuWw1MbxJ"
      },
      "execution_count": null,
      "outputs": []
    },
    {
      "cell_type": "code",
      "source": [
        "X_train,X_test,y_train,y_test=train_test_split(X,y,test_size=0.2,random_state=42)"
      ],
      "metadata": {
        "id": "COwfZ1EiM-os"
      },
      "execution_count": null,
      "outputs": []
    },
    {
      "cell_type": "code",
      "source": [
        "X_train.shape"
      ],
      "metadata": {
        "colab": {
          "base_uri": "https://localhost:8080/"
        },
        "id": "zS_VOIhuNFo9",
        "outputId": "2dc326c8-ad1e-4108-93ca-3940878c4cdd"
      },
      "execution_count": null,
      "outputs": [
        {
          "output_type": "execute_result",
          "data": {
            "text/plain": [
              "(48000, 784)"
            ]
          },
          "metadata": {},
          "execution_count": 112
        }
      ]
    },
    {
      "cell_type": "code",
      "source": [
        "X_train=X_train/255.0\n",
        "X_test=X_test/255.0"
      ],
      "metadata": {
        "id": "kjVxiCtwNI68"
      },
      "execution_count": null,
      "outputs": []
    },
    {
      "cell_type": "code",
      "source": [
        "type(X_train)"
      ],
      "metadata": {
        "colab": {
          "base_uri": "https://localhost:8080/"
        },
        "id": "Zzf44IT0NOGA",
        "outputId": "6e8a446d-c4f6-46c0-9c1b-983e05d5db69"
      },
      "execution_count": null,
      "outputs": [
        {
          "output_type": "execute_result",
          "data": {
            "text/plain": [
              "numpy.ndarray"
            ]
          },
          "metadata": {},
          "execution_count": 114
        }
      ]
    },
    {
      "cell_type": "code",
      "source": [
        "y_train"
      ],
      "metadata": {
        "colab": {
          "base_uri": "https://localhost:8080/"
        },
        "id": "Z3Cz_AagNRnl",
        "outputId": "2d444340-fbdf-45ce-d9c4-23af15253539"
      },
      "execution_count": null,
      "outputs": [
        {
          "output_type": "execute_result",
          "data": {
            "text/plain": [
              "array([5, 7, 8, ..., 9, 4, 0])"
            ]
          },
          "metadata": {},
          "execution_count": 115
        }
      ]
    },
    {
      "cell_type": "code",
      "source": [
        "class FashionDataset(Dataset):\n",
        "    def __init__(self,features,labels):\n",
        "\n",
        "        self.features=torch.tensor(features,dtype=torch.float32)\n",
        "        self.labels=torch.tensor(labels,dtype=torch.long)\n",
        "\n",
        "    def __len__(self):\n",
        "        return self.features.shape[0]\n",
        "\n",
        "    def __getitem__(self,idx):\n",
        "        return self.features[idx],self.labels[idx]"
      ],
      "metadata": {
        "id": "kRkqgnV3Nml_"
      },
      "execution_count": null,
      "outputs": []
    },
    {
      "cell_type": "code",
      "source": [
        "train_dataset=FashionDataset(X_train,y_train)\n",
        "test_dataset=FashionDataset(X_test,y_test)"
      ],
      "metadata": {
        "id": "FkDQUY35OZ1C"
      },
      "execution_count": null,
      "outputs": []
    },
    {
      "cell_type": "code",
      "source": [
        "len(train_dataset)"
      ],
      "metadata": {
        "colab": {
          "base_uri": "https://localhost:8080/"
        },
        "id": "B2hoWtXNOz25",
        "outputId": "01dfef17-cb43-4d85-d791-a86ed221bd9d"
      },
      "execution_count": null,
      "outputs": [
        {
          "output_type": "execute_result",
          "data": {
            "text/plain": [
              "48000"
            ]
          },
          "metadata": {},
          "execution_count": 118
        }
      ]
    },
    {
      "cell_type": "code",
      "source": [
        "# train_dataset[0]"
      ],
      "metadata": {
        "id": "L_GhEa4pO5i7"
      },
      "execution_count": null,
      "outputs": []
    },
    {
      "cell_type": "code",
      "source": [
        "for image, label in train_dataset:\n",
        "    print(image.shape)\n",
        "    plt.imshow(image.reshape(28, 28))\n",
        "    plt.show()\n",
        "    print(label)\n",
        "    break"
      ],
      "metadata": {
        "colab": {
          "base_uri": "https://localhost:8080/",
          "height": 466
        },
        "id": "gYgEXQ2sO-NH",
        "outputId": "fd4382f9-ffed-4862-eef5-e131123d5a85"
      },
      "execution_count": null,
      "outputs": [
        {
          "output_type": "stream",
          "name": "stdout",
          "text": [
            "torch.Size([784])\n"
          ]
        },
        {
          "output_type": "display_data",
          "data": {
            "text/plain": [
              "<Figure size 640x480 with 1 Axes>"
            ],
            "image/png": "[encoded data removed]"
          },
          "metadata": {}
        },
        {
          "output_type": "stream",
          "name": "stdout",
          "text": [
            "tensor(5)\n"
          ]
        }
      ]
    },
    {
      "cell_type": "code",
      "source": [],
      "metadata": {
        "id": "4DaT-dplPQYK"
      },
      "execution_count": null,
      "outputs": []
    },
    {
      "cell_type": "code",
      "source": [
        "class MyNN(nn.Module):\n",
        "  def __init__(self,input_dim,num_of_hidden_layers,num_of_neurons_per_layer,output_dim,dropout_rate):\n",
        "    super().__init__()\n",
        "\n",
        "    layers=[]\n",
        "    for i in range(num_of_hidden_layers):\n",
        "      layers.append(nn.Linear(input_dim,num_of_neurons_per_layer))\n",
        "      layers.append(nn.BatchNorm1d(num_of_neurons_per_layer))\n",
        "      layers.append(nn.ReLU())\n",
        "      layers.append(nn.Dropout(dropout_rate))\n",
        "      input_dim=num_of_neurons_per_layer\n",
        "    layers.append(nn.Linear(input_dim,output_dim))\n",
        "    layers.append(nn.Sigmoid())\n",
        "\n",
        "    self.model=nn.Sequential(*layers)\n",
        "\n",
        "  def forward(self,X):\n",
        "    return self.model(X)"
      ],
      "metadata": {
        "id": "bdJZo4vWfq3V"
      },
      "execution_count": null,
      "outputs": []
    },
    {
      "cell_type": "code",
      "source": [
        "#objective function\n",
        "def objective(trial):\n",
        "  num_hidden_layers = trial.suggest_int('num_hidden_layers', 1, 5)\n",
        "  num_neurons_per_layer = trial.suggest_int('num_neurons_per_layer',8,256,16)\n",
        "  epochs=trial.suggest_int('epochs',10,100,10)\n",
        "  learning_rate=trial.suggest_float('learning_rate',1e-5,1e-1,log=True)\n",
        "  dropout_rate=trial.suggest_float('dropout_rate',0.1,0.5,step=0.1)\n",
        "  batch_size=trial.suggest_int('batch_size',64,512,64)\n",
        "  optimizer_name=trial.suggest_categorical('optimizer_name', ['SGD', 'Adam', 'RMSprop'])\n",
        "  weight_decay=trial.suggest_float('weight_decay',1e-4,1e-1,log=True)\n",
        "\n",
        "\n",
        "  train_loader = DataLoader(train_dataset, batch_size=batch_size, shuffle=True)\n",
        "  test_loader = DataLoader(test_dataset, batch_size=batch_size, shuffle=False)\n",
        "\n",
        "\n",
        "  num_of_features = X_train.shape[1]\n",
        "  output_layer = 10\n",
        "\n",
        "  model=MyNN(num_of_features,num_hidden_layers,num_neurons_per_layer,output_layer,dropout_rate)\n",
        "  model=model.to(device)\n",
        "\n",
        "\n",
        "  loss_fn=nn.CrossEntropyLoss()\n",
        "  # optimizer=optim.SGD(model.parameters(),lr=learning_rate,weight_decay=1e-4)\n",
        "\n",
        "  if optimizer_name == 'SGD':\n",
        "    optimizer = optim.SGD(model.parameters(), lr=learning_rate, weight_decay=weight_decay)\n",
        "  elif optimizer_name == 'Adam':\n",
        "    optimizer = optim.Adam(model.parameters(), lr=learning_rate, weight_decay=weight_decay)\n",
        "  else:\n",
        "    optimizer = optim.RMSprop(model.parameters(), lr=learning_rate, weight_decay=weight_decay)\n",
        "\n",
        "  for epoch in range(epochs):\n",
        "\n",
        "    for images,labels in train_loader:\n",
        "\n",
        "      images,labels=images.to(device),labels.to(device)\n",
        "\n",
        "      y_pred=model(images)\n",
        "      loss=loss_fn(y_pred,labels)\n",
        "\n",
        "      optimizer.zero_grad()\n",
        "\n",
        "      loss.backward()\n",
        "\n",
        "      optimizer.step()\n",
        "\n",
        "\n",
        "  # model evaluation from here\n",
        "  model.eval()\n",
        "\n",
        "  correct=0\n",
        "  total=0\n",
        "  with torch.no_grad():\n",
        "    for images,labels in test_loader:\n",
        "      images,labels=images.to(device),labels.to(device)\n",
        "      y_pred=model(images)\n",
        "      _,predicted=torch.max(y_pred,1)\n",
        "      total+=labels.shape[0]\n",
        "      correct+=(predicted==labels).sum().item()\n",
        "\n",
        "    accuracy = correct/total\n",
        "  return accuracy\n"
      ],
      "metadata": {
        "id": "OGIHj7sre-tu"
      },
      "execution_count": null,
      "outputs": []
    },
    {
      "cell_type": "code",
      "source": [
        "# !pip install optuna"
      ],
      "metadata": {
        "id": "O7-nLS_EjH16"
      },
      "execution_count": null,
      "outputs": []
    },
    {
      "cell_type": "code",
      "source": [
        "import optuna\n",
        "\n",
        "study = optuna.create_study(direction='maximize')\n",
        "study.optimize(objective, n_trials=15)"
      ],
      "metadata": {
        "id": "d8rmZ3L5Pyi0",
        "colab": {
          "base_uri": "https://localhost:8080/"
        },
        "outputId": "b699c383-b97b-44ea-b71a-a329b4f5b75c"
      },
      "execution_count": null,
      "outputs": [
        {
          "output_type": "stream",
          "name": "stderr",
          "text": [
            "[I 2025-01-23 05:30:47,939] A new study created in memory with name: no-name-5c85634c-b65b-4be3-bb91-5915abadc40e\n",
            "<ipython-input-125-df56cfd4514f>:4: FutureWarning: suggest_int() got {'step'} as positional arguments but they were expected to be given as keyword arguments.\n",
            "  num_neurons_per_layer = trial.suggest_int('num_neurons_per_layer',8,256,16)\n",
            "<ipython-input-125-df56cfd4514f>:5: FutureWarning: suggest_int() got {'step'} as positional arguments but they were expected to be given as keyword arguments.\n",
            "  epochs=trial.suggest_int('epochs',10,100,10)\n",
            "<ipython-input-125-df56cfd4514f>:8: FutureWarning: suggest_int() got {'step'} as positional arguments but they were expected to be given as keyword arguments.\n",
            "  batch_size=trial.suggest_int('batch_size',64,512,64)\n",
            "[I 2025-01-23 05:31:23,534] Trial 0 finished with value: 0.8400833333333333 and parameters: {'num_hidden_layers': 2, 'num_neurons_per_layer': 248, 'epochs': 60, 'learning_rate': 0.00038156461133015076, 'dropout_rate': 0.30000000000000004, 'batch_size': 448, 'optimizer_name': 'RMSprop', 'weight_decay': 0.0045777676470177605}. Best is trial 0 with value: 0.8400833333333333.\n",
            "[I 2025-01-23 05:31:48,862] Trial 1 finished with value: 0.269 and parameters: {'num_hidden_layers': 3, 'num_neurons_per_layer': 8, 'epochs': 40, 'learning_rate': 0.0042392806714943165, 'dropout_rate': 0.1, 'batch_size': 448, 'optimizer_name': 'RMSprop', 'weight_decay': 0.035572776422659234}. Best is trial 0 with value: 0.8400833333333333.\n",
            "[I 2025-01-23 05:32:13,089] Trial 2 finished with value: 0.09541666666666666 and parameters: {'num_hidden_layers': 3, 'num_neurons_per_layer': 88, 'epochs': 30, 'learning_rate': 2.0553954928062126e-05, 'dropout_rate': 0.5, 'batch_size': 256, 'optimizer_name': 'SGD', 'weight_decay': 0.00031848623024095866}. Best is trial 0 with value: 0.8400833333333333.\n",
            "[I 2025-01-23 05:33:00,565] Trial 3 finished with value: 0.5245833333333333 and parameters: {'num_hidden_layers': 4, 'num_neurons_per_layer': 200, 'epochs': 70, 'learning_rate': 0.002475485345613013, 'dropout_rate': 0.1, 'batch_size': 448, 'optimizer_name': 'RMSprop', 'weight_decay': 0.0024101937842365933}. Best is trial 0 with value: 0.8400833333333333.\n",
            "[I 2025-01-23 05:34:04,792] Trial 4 finished with value: 0.43483333333333335 and parameters: {'num_hidden_layers': 5, 'num_neurons_per_layer': 72, 'epochs': 40, 'learning_rate': 0.029760881341702856, 'dropout_rate': 0.4, 'batch_size': 128, 'optimizer_name': 'RMSprop', 'weight_decay': 0.00018774975815306623}. Best is trial 0 with value: 0.8400833333333333.\n",
            "[I 2025-01-23 05:34:38,933] Trial 5 finished with value: 0.6445833333333333 and parameters: {'num_hidden_layers': 2, 'num_neurons_per_layer': 216, 'epochs': 30, 'learning_rate': 0.001984569657917914, 'dropout_rate': 0.4, 'batch_size': 128, 'optimizer_name': 'RMSprop', 'weight_decay': 0.010881075629475953}. Best is trial 0 with value: 0.8400833333333333.\n",
            "[I 2025-01-23 05:35:46,498] Trial 6 finished with value: 0.8131666666666667 and parameters: {'num_hidden_layers': 4, 'num_neurons_per_layer': 248, 'epochs': 100, 'learning_rate': 1.6030079438988764e-05, 'dropout_rate': 0.5, 'batch_size': 512, 'optimizer_name': 'Adam', 'weight_decay': 0.043590694271552724}. Best is trial 0 with value: 0.8400833333333333.\n",
            "[I 2025-01-23 05:37:33,369] Trial 7 finished with value: 0.6070833333333333 and parameters: {'num_hidden_layers': 4, 'num_neurons_per_layer': 232, 'epochs': 100, 'learning_rate': 0.0039147986053638395, 'dropout_rate': 0.1, 'batch_size': 192, 'optimizer_name': 'RMSprop', 'weight_decay': 0.0019748707147451174}. Best is trial 0 with value: 0.8400833333333333.\n",
            "[I 2025-01-23 05:39:25,773] Trial 8 finished with value: 0.6853333333333333 and parameters: {'num_hidden_layers': 2, 'num_neurons_per_layer': 152, 'epochs': 100, 'learning_rate': 0.009579160719794776, 'dropout_rate': 0.4, 'batch_size': 128, 'optimizer_name': 'RMSprop', 'weight_decay': 0.0004176177080200765}. Best is trial 0 with value: 0.8400833333333333.\n",
            "[I 2025-01-23 05:40:13,067] Trial 9 finished with value: 0.593 and parameters: {'num_hidden_layers': 5, 'num_neurons_per_layer': 200, 'epochs': 70, 'learning_rate': 0.0061348836225011, 'dropout_rate': 0.4, 'batch_size': 448, 'optimizer_name': 'SGD', 'weight_decay': 0.036654319658184865}. Best is trial 0 with value: 0.8400833333333333.\n",
            "[I 2025-01-23 05:40:19,365] Trial 10 finished with value: 0.8330833333333333 and parameters: {'num_hidden_layers': 1, 'num_neurons_per_layer': 152, 'epochs': 10, 'learning_rate': 0.00032255931483461404, 'dropout_rate': 0.2, 'batch_size': 384, 'optimizer_name': 'Adam', 'weight_decay': 0.006927417168206391}. Best is trial 0 with value: 0.8400833333333333.\n",
            "[I 2025-01-23 05:40:25,261] Trial 11 finished with value: 0.8325833333333333 and parameters: {'num_hidden_layers': 1, 'num_neurons_per_layer': 152, 'epochs': 10, 'learning_rate': 0.00021775498080491153, 'dropout_rate': 0.2, 'batch_size': 320, 'optimizer_name': 'Adam', 'weight_decay': 0.008427391580631242}. Best is trial 0 with value: 0.8400833333333333.\n",
            "[I 2025-01-23 05:41:03,006] Trial 12 finished with value: 0.8256666666666667 and parameters: {'num_hidden_layers': 1, 'num_neurons_per_layer': 104, 'epochs': 60, 'learning_rate': 0.00031035329683300157, 'dropout_rate': 0.2, 'batch_size': 320, 'optimizer_name': 'Adam', 'weight_decay': 0.006734196878868055}. Best is trial 0 with value: 0.8400833333333333.\n",
            "[I 2025-01-23 05:41:09,896] Trial 13 finished with value: 0.8714166666666666 and parameters: {'num_hidden_layers': 2, 'num_neurons_per_layer': 168, 'epochs': 10, 'learning_rate': 0.0003047129135334042, 'dropout_rate': 0.30000000000000004, 'batch_size': 384, 'optimizer_name': 'Adam', 'weight_decay': 0.0009032507665494183}. Best is trial 13 with value: 0.8714166666666666.\n",
            "[I 2025-01-23 05:41:56,068] Trial 14 finished with value: 0.8931666666666667 and parameters: {'num_hidden_layers': 2, 'num_neurons_per_layer': 184, 'epochs': 80, 'learning_rate': 0.00014170506438274666, 'dropout_rate': 0.30000000000000004, 'batch_size': 512, 'optimizer_name': 'Adam', 'weight_decay': 0.0010021100445285784}. Best is trial 14 with value: 0.8931666666666667.\n"
          ]
        }
      ]
    },
    {
      "cell_type": "code",
      "source": [
        "study.best_params"
      ],
      "metadata": {
        "id": "0T8ZMr8HmQwV",
        "colab": {
          "base_uri": "https://localhost:8080/"
        },
        "outputId": "16e23d9e-5ac3-4bdd-ad16-4461e8ffc2d0"
      },
      "execution_count": null,
      "outputs": [
        {
          "output_type": "execute_result",
          "data": {
            "text/plain": [
              "{'num_hidden_layers': 2,\n",
              " 'num_neurons_per_layer': 184,\n",
              " 'epochs': 80,\n",
              " 'learning_rate': 0.00014170506438274666,\n",
              " 'dropout_rate': 0.30000000000000004,\n",
              " 'batch_size': 512,\n",
              " 'optimizer_name': 'Adam',\n",
              " 'weight_decay': 0.0010021100445285784}"
            ]
          },
          "metadata": {},
          "execution_count": 129
        }
      ]
    },
    {
      "cell_type": "code",
      "source": [
        "study.best_value"
      ],
      "metadata": {
        "colab": {
          "base_uri": "https://localhost:8080/"
        },
        "id": "1IwMkhzVma9S",
        "outputId": "e8b1a34e-0121-4546-a6e5-d015f51c67e4"
      },
      "execution_count": null,
      "outputs": [
        {
          "output_type": "execute_result",
          "data": {
            "text/plain": [
              "0.8931666666666667"
            ]
          },
          "metadata": {},
          "execution_count": 130
        }
      ]
    },
    {
      "cell_type": "code",
      "source": [
        "# model=MyNN(784,3,168,10)\n",
        "# model=model.to(device)"
      ],
      "metadata": {
        "id": "QD3C4yISmzAY"
      },
      "execution_count": null,
      "outputs": []
    },
    {
      "cell_type": "code",
      "source": [
        "correct=0\n",
        "total=0\n",
        "with torch.no_grad():\n",
        "  for images,labels in train_loader:\n",
        "    images,labels=images.to(device),labels.to(device)\n",
        "    y_pred=model(images)\n",
        "    _,predicted=torch.max(y_pred,1)\n",
        "    total+=labels.shape[0]\n",
        "    correct+=(predicted==labels).sum().item()\n",
        "\n",
        "  accuracy = correct/total\n",
        "  print(accuracy)"
      ],
      "metadata": {
        "colab": {
          "base_uri": "https://localhost:8080/"
        },
        "id": "gCWDjnQqmeFI",
        "outputId": "88b43b43-ce9a-4200-f4b6-d638d64f8bf3"
      },
      "execution_count": null,
      "outputs": [
        {
          "output_type": "stream",
          "name": "stdout",
          "text": [
            "0.09285416666666667\n"
          ]
        }
      ]
    },
    {
      "cell_type": "code",
      "source": [],
      "metadata": {
        "id": "2zHyuo_5mvA6"
      },
      "execution_count": null,
      "outputs": []
    }
  ]
}